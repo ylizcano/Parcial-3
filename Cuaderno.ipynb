{
  "nbformat": 4,
  "nbformat_minor": 0,
  "metadata": {
    "colab": {
      "provenance": []
    },
    "kernelspec": {
      "name": "python3",
      "display_name": "Python 3"
    }
  },
  "cells": [
    {
      "cell_type": "markdown",
      "metadata": {
        "id": "5PiJRNOzDUcN"
      },
      "source": [
        "<div> \n",
        "<img src=\"https://res-5.cloudinary.com/crunchbase-production/image/upload/c_lpad,h_256,w_256,f_auto,q_auto:eco/v1455514364/pim02bzqvgz0hibsra41.png\" align=\"right\"><br><br><FONT FACE=\"times new roman\" SIZE=5>\n",
        "<b> Tercer Parcial </b>\n",
        "<br>\n",
        "<i><b>Asignatura:</b></i> Computación Paralela y Distribuida\n",
        "<br>\n",
        "<i><b>Docente:</b></i> John Corredor Franco\n",
        "<br>\n",
        "<i><b>Ingeniero en formación:</b></i>  Yeison Steven Lizcano Valderrama \n",
        "<br>\n",
        "<i><b>Programa:</b></i>  Ingeniería de Sistemas y Telecomunicaciones \n",
        "<br>\n",
        "<i><b>Fecha:</b></i> 23/11/22\n",
        "<br>\n",
        "</FONT>\n",
        "</div>"
      ]
    },
    {
      "cell_type": "markdown",
      "metadata": {
        "id": "1Az4KZi2DcdV"
      },
      "source": [
        "# TERCER PARCIAL-Comparativa  de rendimiento Cython vs Python"
      ]
    },
    {
      "cell_type": "markdown",
      "source": [
        "## Contexto"
      ],
      "metadata": {
        "id": "_KxTOwQ-R0C0"
      }
    },
    {
      "cell_type": "markdown",
      "source": [
        "Conforme avanza la tecnología, el procesamiento de altos flujos de información se convierte en una necesidad, la cual requiere de herramientas que amplifiquen su rendimiento.\n",
        "<br>\n",
        "Para suplir esta necesidad se implementa Cython, el cual es un lenguaje de programación que combina Python con el sistema de tipos estáticos de C y C++."
      ],
      "metadata": {
        "id": "V8BO7AeYUc7x"
      }
    },
    {
      "cell_type": "markdown",
      "source": [
        "#Algoritmo de exploradores y canibales\n"
      ],
      "metadata": {
        "id": "u0ewJnxaXmeF"
      }
    },
    {
      "cell_type": "markdown",
      "source": [
        "El primer algoritmo seleccionado para las pruebas de rendimiento entre Python y Cython, trata de tres exploradores y tres caníbales los cuales tienen que pasar un río, disponen de una barca, que puede como máximo con dos personas y en ningún momento y en ninguna orilla puede haber más caníbales que exploradores."
      ],
      "metadata": {
        "id": "jKSp3s_APgCM"
      }
    },
    {
      "cell_type": "markdown",
      "source": [
        "##Algoritmo Genético"
      ],
      "metadata": {
        "id": "SzcgKtx-PnV2"
      }
    },
    {
      "cell_type": "markdown",
      "source": [
        "En el segundo algoritmo tenemos la trayectoria de un proyectil, el cual  consiste\n",
        "en variar la velocidad y ángulo de este hasta golpear a un\n",
        "objetivo determinado. Su solución se realizó mediante\n",
        "algoritmos genéticos."
      ],
      "metadata": {
        "id": "8rgjQKw3NACn"
      }
    },
    {
      "cell_type": "markdown",
      "source": [
        "# Metodología"
      ],
      "metadata": {
        "id": "-xa7WN3jNP3g"
      }
    },
    {
      "cell_type": "markdown",
      "source": [
        "Mediante la selección de dos algoritmos que requieran un nivel medio de procesamiento, se realiza un estudio de rendimiento tanto de Python como de Cython, haciendo una comparativa con los tiempos de respuesta de cada uno de ellos cuando se procesa un alto volumen de información, creando una batería de experimentos para controlar el ruido gaussiano con una totalidad de 30 cargas para obtener un valor confiable, los resultados obtenidos seran extraidos en un Fichero .csv, mostrando mediante gráficos el promedio de estos tiempos y cual ha sido su margen de mejora."
      ],
      "metadata": {
        "id": "RDuPapCJNXKi"
      }
    },
    {
      "cell_type": "markdown",
      "source": [
        "# Análisis"
      ],
      "metadata": {
        "id": "btNdIc5QS84w"
      }
    },
    {
      "cell_type": "markdown",
      "source": [
        "Para lograr una optimización de estos algoritmos se utiliza Cython, el cual permite mezclar código C con el código Python, con el objetivo de obtener una velocidad cercana a la de C# con sólo unos simples ajustes en las declaraciones y los bucles.\n",
        "<br>\n",
        "En la versión optimizada se observan las anotaciones HTML las cuales están adjuntas en el [Git](https://github.com/ylizcano/Parcial-3) en sus respectivas carpetas, donde se muestran de color amarillo las funciones y variables que se pueden seguir mejorando mediante cython y las áreas que no están subrayadas fueron modificadas para obtener un aumento en el tiempo de respuesta de la ejecución."
      ],
      "metadata": {
        "id": "v6kIIxGUTA-c"
      }
    },
    {
      "cell_type": "markdown",
      "source": [
        "#Resultados"
      ],
      "metadata": {
        "id": "pd0qyD4Xdv_H"
      }
    },
    {
      "cell_type": "code",
      "source": [
        "import numpy as np\n",
        "import matplotlib.pyplot as plt"
      ],
      "metadata": {
        "id": "9FijpC2kfRva"
      },
      "execution_count": 1,
      "outputs": []
    },
    {
      "cell_type": "markdown",
      "source": [
        "**Algoritmo Exploradores y Canibales**\n",
        "<br>\n",
        "Se obtiene un promedio de las cargas obtenidas en el fichero csv realizadas del algoritmo Exploradores y Canibales, teniendo como resultado:\n",
        "<br>\n",
        "**Python:** 0.119 s\n",
        "<br>\n",
        "**Cython:** 0.034 s"
      ],
      "metadata": {
        "id": "5PEo4ilnfiEw"
      }
    },
    {
      "cell_type": "code",
      "source": [
        "rendimiento = [0.119,0.034]\n",
        "nombres = [\"Python\",\"Cython\"]\n",
        "plt.pie(rendimiento, labels=nombres)\n",
        "print(\"Grafico 1. comparación de rendimiento entre Python y Cython\")\n"
      ],
      "metadata": {
        "colab": {
          "base_uri": "https://localhost:8080/",
          "height": 265
        },
        "id": "MAw56IEpfQMl",
        "outputId": "388393b7-5417-428e-812a-e4a213afa506"
      },
      "execution_count": 6,
      "outputs": [
        {
          "output_type": "stream",
          "name": "stdout",
          "text": [
            "Grafico 1. comparación de rendimiento entre Python y Cython\n"
          ]
        },
        {
          "output_type": "display_data",
          "data": {
            "text/plain": [
              "<Figure size 432x288 with 1 Axes>"
            ],
            "image/png": "[encoded data removed]"
          },
          "metadata": {}
        }
      ]
    },
    {
      "cell_type": "markdown",
      "source": [
        "Se observa en el grafico 1 que al utilizar Cython hay un mayor rendimiento el cual no es tan notable debido a que el nivel de procesamiento requerido no es muy exigente."
      ],
      "metadata": {
        "id": "AMJBQuQ9iCFp"
      }
    },
    {
      "cell_type": "markdown",
      "source": [
        "**Algoritmo Genético**\n",
        "<br>\n",
        "Se obtiene un promedio de las cargas obtenidas en el fichero csv realizadas de algoritmo genetico, teniendo como resultado:\n",
        "<br>\n",
        "**Python:** 459.255 s\n",
        "<br>\n",
        "**Cython:** 602.115 s"
      ],
      "metadata": {
        "id": "E8Pv6Mtgi7XM"
      }
    },
    {
      "cell_type": "code",
      "source": [
        "rendimiento = [459.255,602.115]\n",
        "nombres = [\"Python\",\"Cython\"]\n",
        "plt.pie(rendimiento, labels=nombres)\n",
        "print(\"Grafico 2. comparación de rendimiento entre Python y Cython\")"
      ],
      "metadata": {
        "colab": {
          "base_uri": "https://localhost:8080/",
          "height": 265
        },
        "id": "UaoRLwY1i58P",
        "outputId": "391dbb5b-0ede-4601-e0b5-133733c45f9e"
      },
      "execution_count": 8,
      "outputs": [
        {
          "output_type": "stream",
          "name": "stdout",
          "text": [
            "Grafico 2. comparación de rendimiento entre Python y Cython\n"
          ]
        },
        {
          "output_type": "display_data",
          "data": {
            "text/plain": [
              "<Figure size 432x288 with 1 Axes>"
            ],
            "image/png": "[encoded data removed]"
          },
          "metadata": {}
        }
      ]
    },
    {
      "cell_type": "markdown",
      "source": [
        "Se observa en el grafico 2 una diferencia de tiempos de 142.86 s, la cual se considera una diferencia notoria debido a que al tratarse de un algoritmo complejo entre mas volumen de información se procese mas eficiente se convierte cython."
      ],
      "metadata": {
        "id": "3PGZQRhHkJaV"
      }
    },
    {
      "cell_type": "markdown",
      "source": [
        "## Conclusión"
      ],
      "metadata": {
        "id": "EFLVlUD6k9XI"
      }
    },
    {
      "cell_type": "markdown",
      "source": [
        "Para un mundo donde empieza a observarse la necesidad de procesar alta cantidad de datos se deben tener las competencias pertinentes en relación a la configuración, buscando siempre el mejor uso de los recursos del sistema, dando una mejora notable en el rendimiento."
      ],
      "metadata": {
        "id": "TQd-JWWRlAS0"
      }
    },
    {
      "cell_type": "markdown",
      "source": [
        "## Bibliografía"
      ],
      "metadata": {
        "id": "CJO_q-V3lTTU"
      }
    },
    {
      "cell_type": "markdown",
      "source": [
        "cython. (s.f.). Obtenido de [https://cython.org/](https://cython.org/)\n",
        "<br>\n",
        "Python. (s.f.). Obtenido de [https://www.python.org/](https://www.python.org/)"
      ],
      "metadata": {
        "id": "SGZrukpUlUeR"
      }
    }
  ]
}
